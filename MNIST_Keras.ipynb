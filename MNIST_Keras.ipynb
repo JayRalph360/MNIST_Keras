{
  "cells": [
    {
      "cell_type": "code",
      "execution_count": 16,
      "metadata": {
        "id": "iUE4TbUW2O2h"
      },
      "outputs": [],
      "source": [
        "import numpy as np\n",
        "import cv2\n",
        "np.random.seed(123) \n",
        "from matplotlib import pyplot as plt\n",
        "from keras.models import Sequential\n",
        "from keras.layers import Dense, Dropout, Activation, Flatten  \n",
        "from keras.layers import Convolution2D, MaxPooling2D \n",
        "\n",
        "from keras.utils import np_utils\n",
        "\n",
        "from keras.datasets import mnist\n",
        "from google.colab.patches import cv2_imshow"
      ]
    },
    {
      "cell_type": "code",
      "execution_count": 17,
      "metadata": {
        "colab": {
          "base_uri": "https://localhost:8080/",
          "height": 265
        },
        "id": "euSenrB72wlD",
        "outputId": "de6c461d-8aaa-44ed-b917-a8cacf06ae53"
      },
      "outputs": [
        {
          "output_type": "display_data",
          "data": {
            "text/plain": [
              "<Figure size 432x288 with 1 Axes>"
            ],
            "image/png": "[encoded data removed]"
          },
          "metadata": {
            "needs_background": "light"
          }
        }
      ],
      "source": [
        "(X_train, y_train), (X_test, y_test) = mnist.load_data() \n",
        "plt.imshow(X_train[0])\n",
        "plt.show()"
      ]
    },
    {
      "cell_type": "code",
      "execution_count": 18,
      "metadata": {
        "id": "julx-07D36qi"
      },
      "outputs": [],
      "source": [
        "X_train = X_train.reshape(X_train.shape[0],28, 28, 1) \n",
        "X_test = X_test.reshape(X_test.shape[0], 28, 28, 1)"
      ]
    },
    {
      "cell_type": "code",
      "execution_count": 19,
      "metadata": {
        "id": "KcAVS2Qe4BE7"
      },
      "outputs": [],
      "source": [
        "X_train = X_train.astype('float32')\n",
        "X_test = X_test.astype('float32')"
      ]
    },
    {
      "cell_type": "code",
      "execution_count": 20,
      "metadata": {
        "id": "WTYc1AD54KYh"
      },
      "outputs": [],
      "source": [
        "X_train /= 255\n",
        "X_test /= 255"
      ]
    },
    {
      "cell_type": "code",
      "execution_count": 21,
      "metadata": {
        "id": "PTBGQVN-4RYq"
      },
      "outputs": [],
      "source": [
        "Y_train = np_utils.to_categorical(y_train, 10) \n",
        "Y_test = np_utils.to_categorical(y_test, 10)"
      ]
    },
    {
      "cell_type": "code",
      "execution_count": 22,
      "metadata": {
        "id": "sw47_Kb34ZRX"
      },
      "outputs": [],
      "source": [
        "model = Sequential()\n",
        "\n",
        "model.add(Convolution2D(32, (3, 3), activation='relu', input_shape=(28,28,1))) \n",
        "model.add(Convolution2D(32, (3, 3), activation='relu'))\n",
        "model.add(MaxPooling2D(pool_size=(2,2)))\n",
        "model.add(Dropout(0.25))\n",
        "\n",
        "model.add(Flatten())\n",
        "model.add(Dense(128, activation='relu'))\n",
        "model.add(Dropout(0.5))\n",
        "model.add(Dense(10, activation='softmax'))"
      ]
    },
    {
      "cell_type": "code",
      "execution_count": 23,
      "metadata": {
        "id": "Tsdj38Zx4evE"
      },
      "outputs": [],
      "source": [
        "model.compile(loss='categorical_crossentropy',optimizer='adam',metrics=['accuracy'])"
      ]
    },
    {
      "cell_type": "code",
      "execution_count": 24,
      "metadata": {
        "colab": {
          "base_uri": "https://localhost:8080/"
        },
        "id": "EmNGNrTy4jYy",
        "outputId": "fe2daeff-15fc-4b8e-adc5-9d00cf585ab7"
      },
      "outputs": [
        {
          "output_type": "stream",
          "name": "stdout",
          "text": [
            "Epoch 1/10\n",
            "1875/1875 [==============================] - 113s 60ms/step - loss: 0.2159 - accuracy: 0.9337\n",
            "Epoch 2/10\n",
            "1875/1875 [==============================] - 112s 60ms/step - loss: 0.0911 - accuracy: 0.9726\n",
            "Epoch 3/10\n",
            "1875/1875 [==============================] - 112s 60ms/step - loss: 0.0686 - accuracy: 0.9796\n",
            "Epoch 4/10\n",
            "1875/1875 [==============================] - 111s 59ms/step - loss: 0.0589 - accuracy: 0.9821\n",
            "Epoch 5/10\n",
            "1875/1875 [==============================] - 111s 59ms/step - loss: 0.0485 - accuracy: 0.9854\n",
            "Epoch 6/10\n",
            "1875/1875 [==============================] - 115s 62ms/step - loss: 0.0416 - accuracy: 0.9870\n",
            "Epoch 7/10\n",
            "1875/1875 [==============================] - 112s 60ms/step - loss: 0.0387 - accuracy: 0.9882\n",
            "Epoch 8/10\n",
            "1875/1875 [==============================] - 112s 60ms/step - loss: 0.0357 - accuracy: 0.9883\n",
            "Epoch 9/10\n",
            "1875/1875 [==============================] - 111s 59ms/step - loss: 0.0318 - accuracy: 0.9894\n",
            "Epoch 10/10\n",
            "1875/1875 [==============================] - 111s 59ms/step - loss: 0.0298 - accuracy: 0.9907\n"
          ]
        },
        {
          "output_type": "execute_result",
          "data": {
            "text/plain": [
              "<keras.callbacks.History at 0x7f6643025d10>"
            ]
          },
          "metadata": {},
          "execution_count": 24
        }
      ],
      "source": [
        "model.fit(X_train, Y_train, batch_size=32, epochs=10, verbose=1)"
      ]
    },
    {
      "cell_type": "code",
      "source": [
        "for i in np.random.choice(np.arange(0, len(Y_test)), size = (10,)):\n",
        "\t\n",
        "\tprobs = model.predict(X_test[np.newaxis, i])\n",
        "\tprediction = probs.argmax(axis=1)\n",
        " \n",
        "\timage = (X_test[i] * 255).reshape((28, 28)).astype(\"uint8\")\n",
        " \n",
        "\tprint(\"Actual digit is {0}, predicted {1}\".format(Y_test[i], prediction[0]))\n",
        "\tcv2_imshow(image)\n",
        "\tcv2.waitKey(0) "
      ],
      "metadata": {
        "colab": {
          "base_uri": "https://localhost:8080/",
          "height": 471
        },
        "id": "AWyBMapa9CeQ",
        "outputId": "b4c4dc5a-56ba-4d1e-8d3b-c8436e34c04a"
      },
      "execution_count": 33,
      "outputs": [
        {
          "output_type": "stream",
          "name": "stdout",
          "text": [
            "Actual digit is [0. 0. 0. 0. 1. 0. 0. 0. 0. 0.], predicted 4\n"
          ]
        },
        {
          "output_type": "display_data",
          "data": {
            "text/plain": [
              "<PIL.Image.Image image mode=L size=28x28 at 0x7F66D0DCFCD0>"
            ],
            "image/png": "[encoded data removed]"
          },
          "metadata": {}
        },
        {
          "output_type": "stream",
          "name": "stdout",
          "text": [
            "Actual digit is [0. 0. 1. 0. 0. 0. 0. 0. 0. 0.], predicted 2\n"
          ]
        },
        {
          "output_type": "display_data",
          "data": {
            "text/plain": [
              "<PIL.Image.Image image mode=L size=28x28 at 0x7F66D0DCFE10>"
            ],
            "image/png": "[encoded data removed]"
          },
          "metadata": {}
        },
        {
          "output_type": "stream",
          "name": "stdout",
          "text": [
            "Actual digit is [0. 1. 0. 0. 0. 0. 0. 0. 0. 0.], predicted 1\n"
          ]
        },
        {
          "output_type": "display_data",
          "data": {
            "text/plain": [
              "<PIL.Image.Image image mode=L size=28x28 at 0x7F66D0D1C850>"
            ],
            "image/png": "[encoded data removed]"
          },
          "metadata": {}
        },
        {
          "output_type": "stream",
          "name": "stdout",
          "text": [
            "Actual digit is [0. 0. 0. 0. 0. 0. 0. 1. 0. 0.], predicted 7\n"
          ]
        },
        {
          "output_type": "display_data",
          "data": {
            "text/plain": [
              "<PIL.Image.Image image mode=L size=28x28 at 0x7F66D0E4AED0>"
            ],
            "image/png": "[encoded data removed]"
          },
          "metadata": {}
        },
        {
          "output_type": "stream",
          "name": "stdout",
          "text": [
            "Actual digit is [0. 0. 0. 0. 1. 0. 0. 0. 0. 0.], predicted 4\n"
          ]
        },
        {
          "output_type": "display_data",
          "data": {
            "text/plain": [
              "<PIL.Image.Image image mode=L size=28x28 at 0x7F66D0D6F590>"
            ],
            "image/png": "[encoded data removed]"
          },
          "metadata": {}
        },
        {
          "output_type": "stream",
          "name": "stdout",
          "text": [
            "Actual digit is [1. 0. 0. 0. 0. 0. 0. 0. 0. 0.], predicted 0\n"
          ]
        },
        {
          "output_type": "display_data",
          "data": {
            "text/plain": [
              "<PIL.Image.Image image mode=L size=28x28 at 0x7F66D0D1C850>"
            ],
            "image/png": "[encoded data removed]"
          },
          "metadata": {}
        },
        {
          "output_type": "stream",
          "name": "stdout",
          "text": [
            "Actual digit is [0. 0. 0. 0. 1. 0. 0. 0. 0. 0.], predicted 4\n"
          ]
        },
        {
          "output_type": "display_data",
          "data": {
            "text/plain": [
              "<PIL.Image.Image image mode=L size=28x28 at 0x7F66D0D04210>"
            ],
            "image/png": "[encoded data removed]"
          },
          "metadata": {}
        },
        {
          "output_type": "stream",
          "name": "stdout",
          "text": [
            "Actual digit is [0. 0. 0. 0. 1. 0. 0. 0. 0. 0.], predicted 4\n"
          ]
        },
        {
          "output_type": "display_data",
          "data": {
            "text/plain": [
              "<PIL.Image.Image image mode=L size=28x28 at 0x7F66D0D7E1D0>"
            ],
            "image/png": "[encoded data removed]"
          },
          "metadata": {}
        },
        {
          "output_type": "stream",
          "name": "stdout",
          "text": [
            "Actual digit is [0. 0. 0. 0. 0. 0. 0. 1. 0. 0.], predicted 7\n"
          ]
        },
        {
          "output_type": "display_data",
          "data": {
            "text/plain": [
              "<PIL.Image.Image image mode=L size=28x28 at 0x7F66D0DE12D0>"
            ],
            "image/png": "[encoded data removed]"
          },
          "metadata": {}
        },
        {
          "output_type": "stream",
          "name": "stdout",
          "text": [
            "Actual digit is [0. 0. 0. 1. 0. 0. 0. 0. 0. 0.], predicted 3\n"
          ]
        },
        {
          "output_type": "display_data",
          "data": {
            "text/plain": [
              "<PIL.Image.Image image mode=L size=28x28 at 0x7F66D0D06810>"
            ],
            "image/png": "[encoded data removed]"
          },
          "metadata": {}
        }
      ]
    }
  ],
  "metadata": {
    "colab": {
      "collapsed_sections": [],
      "name": "MNIST_Keras.ipynb",
      "provenance": [],
      "toc_visible": true
    },
    "kernelspec": {
      "display_name": "Python 3",
      "name": "python3"
    },
    "language_info": {
      "name": "python"
    }
  },
  "nbformat": 4,
  "nbformat_minor": 0
}